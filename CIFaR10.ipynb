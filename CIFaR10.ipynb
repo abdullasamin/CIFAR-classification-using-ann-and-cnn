{
  "nbformat": 4,
  "nbformat_minor": 0,
  "metadata": {
    "colab": {
      "name": "CIFaR10.ipynb",
      "provenance": []
    },
    "kernelspec": {
      "name": "python3",
      "display_name": "Python 3"
    },
    "language_info": {
      "name": "python"
    }
  },
  "cells": [
    {
      "cell_type": "markdown",
      "source": [
        "Small Image Classification Using Convolutional Neural Network (CNN)\n",
        "\n",
        "\n",
        "\n",
        "\n",
        "In this notebook, we will classify small images cifar10 dataset from tensorflow keras datasets. There are total 10 classes as shown below. We will use CNN for classification\n",
        "\n",
        "\n",
        "\n",
        "\n",
        "\n",
        "\n"
      ],
      "metadata": {
        "id": "LyxQE2-3Ip_w"
      }
    },
    {
      "cell_type": "code",
      "source": [
        "import tensorflow as tf\n",
        "from tensorflow.keras import datasets, layers, models\n",
        "import matplotlib.pyplot as plt\n",
        "import numpy as np\n",
        "import pandas as pd"
      ],
      "metadata": {
        "id": "GyOoMH91IntZ"
      },
      "execution_count": 1,
      "outputs": []
    },
    {
      "cell_type": "code",
      "source": [
        "(X_train, y_train), (X_test,y_test) = datasets.cifar10.load_data()\n",
        "X_train.shape"
      ],
      "metadata": {
        "colab": {
          "base_uri": "https://localhost:8080/"
        },
        "id": "6FZCZUilJBxf",
        "outputId": "22291716-42f5-48b4-df44-ce849c2bd60c"
      },
      "execution_count": 7,
      "outputs": [
        {
          "output_type": "execute_result",
          "data": {
            "text/plain": [
              "(50000, 32, 32, 3)"
            ]
          },
          "metadata": {},
          "execution_count": 7
        }
      ]
    },
    {
      "cell_type": "code",
      "source": [
        "y_train.shape"
      ],
      "metadata": {
        "colab": {
          "base_uri": "https://localhost:8080/"
        },
        "id": "wguV0tfVJnZ_",
        "outputId": "204e9404-0816-4d50-bd20-d861e10fc505"
      },
      "execution_count": 8,
      "outputs": [
        {
          "output_type": "execute_result",
          "data": {
            "text/plain": [
              "(50000, 1)"
            ]
          },
          "metadata": {},
          "execution_count": 8
        }
      ]
    },
    {
      "cell_type": "code",
      "source": [
        "y_train[:5]"
      ],
      "metadata": {
        "colab": {
          "base_uri": "https://localhost:8080/"
        },
        "id": "vS9-sCMGJtKU",
        "outputId": "1601fb73-a311-48ba-981a-b38b4890fbaf"
      },
      "execution_count": 10,
      "outputs": [
        {
          "output_type": "execute_result",
          "data": {
            "text/plain": [
              "array([[6],\n",
              "       [9],\n",
              "       [9],\n",
              "       [4],\n",
              "       [1]], dtype=uint8)"
            ]
          },
          "metadata": {},
          "execution_count": 10
        }
      ]
    },
    {
      "cell_type": "code",
      "source": [
        "y_train = y_train.reshape(-1,)\n",
        "y_train[:]\n"
      ],
      "metadata": {
        "colab": {
          "base_uri": "https://localhost:8080/"
        },
        "id": "_GbPS98-J71V",
        "outputId": "491ff0fa-badb-4f48-9317-6a67d6badd05"
      },
      "execution_count": 12,
      "outputs": [
        {
          "output_type": "execute_result",
          "data": {
            "text/plain": [
              "array([6, 9, 9, ..., 9, 1, 1], dtype=uint8)"
            ]
          },
          "metadata": {},
          "execution_count": 12
        }
      ]
    },
    {
      "cell_type": "code",
      "source": [
        "y_test = y_test.reshape(-1,)\n",
        "classes = [\"airplane\",\"automobile\",\"bird\",\"cat\",\"deer\",\"dog\",\"frog\",\"horse\",\"ship\",\"truck\"]"
      ],
      "metadata": {
        "id": "4agPKyXnKFA3"
      },
      "execution_count": 16,
      "outputs": []
    },
    {
      "cell_type": "code",
      "source": [
        "def plot_sample(X, y, index):\n",
        "    plt.figure(figsize = (15,2))\n",
        "    plt.imshow(X[index])\n",
        "    plt.xlabel(classes[y[index]])"
      ],
      "metadata": {
        "id": "xa0nucFIKjoI"
      },
      "execution_count": 17,
      "outputs": []
    },
    {
      "cell_type": "code",
      "source": [
        "plot_sample(X_train, y_train, 0)"
      ],
      "metadata": {
        "colab": {
          "base_uri": "https://localhost:8080/",
          "height": 173
        },
        "id": "tp-sbeKuK4ht",
        "outputId": "d7fe9a77-f49b-448c-f1e3-2a288b76dab1"
      },
      "execution_count": 18,
      "outputs": [
        {
          "output_type": "display_data",
          "data": {
            "image/png": "[encoded data removed]",
            "text/plain": [
              "<Figure size 1080x144 with 1 Axes>"
            ]
          },
          "metadata": {
            "needs_background": "light"
          }
        }
      ]
    },
    {
      "cell_type": "code",
      "source": [
        "X_train = X_train / 255.0\n",
        "X_test = X_test / 255.0"
      ],
      "metadata": {
        "id": "dy-gkfWhK-Mv"
      },
      "execution_count": 19,
      "outputs": []
    },
    {
      "cell_type": "code",
      "source": [
        "ann = models.Sequential([\n",
        "        layers.Flatten(input_shape=(32,32,3)),\n",
        "        layers.Dense(3000, activation='relu'),\n",
        "        layers.Dense(1000, activation='relu'),\n",
        "        layers.Dense(10, activation='softmax')    \n",
        "    ])\n",
        "\n",
        "ann.compile(optimizer='SGD',\n",
        "              loss='sparse_categorical_crossentropy',\n",
        "              metrics=['accuracy'])\n",
        "\n",
        "ann.fit(X_train, y_train, epochs=5)"
      ],
      "metadata": {
        "colab": {
          "base_uri": "https://localhost:8080/"
        },
        "id": "x71pKqS2LF0b",
        "outputId": "23c970fc-2c16-490b-a16c-f71f28bdfa46"
      },
      "execution_count": 21,
      "outputs": [
        {
          "output_type": "stream",
          "name": "stdout",
          "text": [
            "Epoch 1/5\n",
            "1563/1563 [==============================] - 61s 39ms/step - loss: 1.8146 - accuracy: 0.3523\n",
            "Epoch 2/5\n",
            "1563/1563 [==============================] - 62s 40ms/step - loss: 1.6253 - accuracy: 0.4267\n",
            "Epoch 3/5\n",
            "1563/1563 [==============================] - 61s 39ms/step - loss: 1.5426 - accuracy: 0.4566\n",
            "Epoch 4/5\n",
            "1563/1563 [==============================] - 61s 39ms/step - loss: 1.4839 - accuracy: 0.4778\n",
            "Epoch 5/5\n",
            "1563/1563 [==============================] - 61s 39ms/step - loss: 1.4335 - accuracy: 0.4958\n"
          ]
        },
        {
          "output_type": "execute_result",
          "data": {
            "text/plain": [
              "<keras.callbacks.History at 0x7f7c74615950>"
            ]
          },
          "metadata": {},
          "execution_count": 21
        }
      ]
    },
    {
      "cell_type": "code",
      "source": [
        "from sklearn.metrics import confusion_matrix , classification_report\n",
        "import numpy as np\n",
        "y_pred = ann.predict(X_test)\n",
        "y_pred_classes = [np.argmax(element) for element in y_pred]\n",
        "\n",
        "print(\"Classification Report: \\n\", classification_report(y_test, y_pred_classes))"
      ],
      "metadata": {
        "colab": {
          "base_uri": "https://localhost:8080/"
        },
        "id": "T78_p6YsNTmG",
        "outputId": "afe8572f-590d-4087-e5f4-2d4000cd7bd7"
      },
      "execution_count": 22,
      "outputs": [
        {
          "output_type": "stream",
          "name": "stdout",
          "text": [
            "Classification Report: \n",
            "               precision    recall  f1-score   support\n",
            "\n",
            "           0       0.61      0.50      0.55      1000\n",
            "           1       0.65      0.50      0.57      1000\n",
            "           2       0.41      0.28      0.33      1000\n",
            "           3       0.31      0.50      0.38      1000\n",
            "           4       0.60      0.16      0.26      1000\n",
            "           5       0.52      0.25      0.33      1000\n",
            "           6       0.38      0.76      0.51      1000\n",
            "           7       0.64      0.44      0.52      1000\n",
            "           8       0.70      0.49      0.58      1000\n",
            "           9       0.39      0.76      0.51      1000\n",
            "\n",
            "    accuracy                           0.46     10000\n",
            "   macro avg       0.52      0.46      0.45     10000\n",
            "weighted avg       0.52      0.46      0.45     10000\n",
            "\n"
          ]
        }
      ]
    },
    {
      "cell_type": "code",
      "source": [
        "cnn = models.Sequential([\n",
        "    layers.Conv2D(filters=32, kernel_size=(3, 3), activation='relu', input_shape=(32, 32, 3)),\n",
        "    layers.MaxPooling2D((2, 2)),\n",
        "    \n",
        "    layers.Conv2D(filters=64, kernel_size=(3, 3), activation='relu'),\n",
        "    layers.MaxPooling2D((2, 2)),\n",
        "    \n",
        "    layers.Flatten(),\n",
        "    layers.Dense(64, activation='relu'),\n",
        "    layers.Dense(10, activation='softmax')\n",
        "])"
      ],
      "metadata": {
        "id": "8j-RszhYNap2"
      },
      "execution_count": 24,
      "outputs": []
    },
    {
      "cell_type": "code",
      "source": [
        "cnn.compile(optimizer='adam',\n",
        "              loss='sparse_categorical_crossentropy',\n",
        "              metrics=['accuracy'])"
      ],
      "metadata": {
        "id": "-b7ODhpcNhAp"
      },
      "execution_count": 26,
      "outputs": []
    },
    {
      "cell_type": "code",
      "source": [
        "cnn.fit(X_train, y_train, epochs=10)"
      ],
      "metadata": {
        "colab": {
          "base_uri": "https://localhost:8080/"
        },
        "id": "tqmc3Dv_NimJ",
        "outputId": "b37e7c38-c5b7-485c-b751-5520ed213681"
      },
      "execution_count": 27,
      "outputs": [
        {
          "output_type": "stream",
          "name": "stdout",
          "text": [
            "Epoch 1/10\n",
            "1563/1563 [==============================] - 47s 30ms/step - loss: 1.4651 - accuracy: 0.4723\n",
            "Epoch 2/10\n",
            "1563/1563 [==============================] - 48s 31ms/step - loss: 1.1052 - accuracy: 0.6129\n",
            "Epoch 3/10\n",
            "1563/1563 [==============================] - 48s 31ms/step - loss: 0.9839 - accuracy: 0.6584\n",
            "Epoch 4/10\n",
            "1563/1563 [==============================] - 49s 31ms/step - loss: 0.9017 - accuracy: 0.6867\n",
            "Epoch 5/10\n",
            "1563/1563 [==============================] - 49s 31ms/step - loss: 0.8433 - accuracy: 0.7078\n",
            "Epoch 6/10\n",
            "1563/1563 [==============================] - 49s 31ms/step - loss: 0.7878 - accuracy: 0.7264\n",
            "Epoch 7/10\n",
            "1563/1563 [==============================] - 49s 32ms/step - loss: 0.7347 - accuracy: 0.7446\n",
            "Epoch 8/10\n",
            "1563/1563 [==============================] - 49s 31ms/step - loss: 0.6965 - accuracy: 0.7565\n",
            "Epoch 9/10\n",
            "1563/1563 [==============================] - 49s 31ms/step - loss: 0.6538 - accuracy: 0.7709\n",
            "Epoch 10/10\n",
            "1563/1563 [==============================] - 49s 31ms/step - loss: 0.6201 - accuracy: 0.7840\n"
          ]
        },
        {
          "output_type": "execute_result",
          "data": {
            "text/plain": [
              "<keras.callbacks.History at 0x7f7c6fd9b050>"
            ]
          },
          "metadata": {},
          "execution_count": 27
        }
      ]
    },
    {
      "cell_type": "code",
      "source": [
        "y_pred = cnn.predict(X_test)\n",
        "y_pred_classes = [np.argmax(element) for element in y_pred]\n",
        "\n",
        "print(\"Classification Report: \\n\", classification_report(y_test, y_pred_classes))"
      ],
      "metadata": {
        "colab": {
          "base_uri": "https://localhost:8080/"
        },
        "id": "0tLx8pc3Q6Wj",
        "outputId": "f03be40e-bf64-450b-ee2e-f35662453946"
      },
      "execution_count": 28,
      "outputs": [
        {
          "output_type": "stream",
          "name": "stdout",
          "text": [
            "Classification Report: \n",
            "               precision    recall  f1-score   support\n",
            "\n",
            "           0       0.66      0.82      0.73      1000\n",
            "           1       0.69      0.89      0.78      1000\n",
            "           2       0.57      0.61      0.59      1000\n",
            "           3       0.53      0.47      0.50      1000\n",
            "           4       0.70      0.57      0.63      1000\n",
            "           5       0.61      0.58      0.60      1000\n",
            "           6       0.82      0.70      0.75      1000\n",
            "           7       0.68      0.79      0.73      1000\n",
            "           8       0.84      0.77      0.80      1000\n",
            "           9       0.82      0.67      0.74      1000\n",
            "\n",
            "    accuracy                           0.69     10000\n",
            "   macro avg       0.69      0.69      0.69     10000\n",
            "weighted avg       0.69      0.69      0.69     10000\n",
            "\n"
          ]
        }
      ]
    }
  ]
}